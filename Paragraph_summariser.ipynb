{
  "nbformat": 4,
  "nbformat_minor": 0,
  "metadata": {
    "colab": {
      "name": "Paragraph summarizer.ipynb",
      "provenance": []
    },
    "kernelspec": {
      "name": "python3",
      "display_name": "Python 3"
    },
    "language_info": {
      "name": "python"
    }
  },
  "cells": [
    {
      "cell_type": "code",
      "metadata": {
        "id": "uli6bHr8eLW0",
        "colab": {
          "base_uri": "https://localhost:8080/"
        },
        "outputId": "9722906a-a0a0-4a0b-988c-78d9ebfeb08d"
      },
      "source": [
        "import nltk\n",
        "nltk.download('stopwords')\n",
        "from nltk.corpus import stopwords\n",
        "from nltk.cluster.util import cosine_distance\n",
        "import numpy as np\n",
        "import networkx as nx"
      ],
      "execution_count": 33,
      "outputs": [
        {
          "output_type": "stream",
          "text": [
            "[nltk_data] Downloading package stopwords to /root/nltk_data...\n",
            "[nltk_data]   Package stopwords is already up-to-date!\n"
          ],
          "name": "stdout"
        }
      ]
    },
    {
      "cell_type": "code",
      "metadata": {
        "id": "6mxuPH_If2_s"
      },
      "source": [
        "def read_article(file):\n",
        "  file = open(file,\"r\")\n",
        "  data = file.readlines()\n",
        "  article = data[0].split('. ')\n",
        "  sentences = []\n",
        "  for sentence in article:\n",
        "    sentences.append(sentence.replace(\"[^a-zA-Z]\",\" \").split(\" \"))\n",
        "  sentences.pop()\n",
        "  return sentences"
      ],
      "execution_count": 34,
      "outputs": []
    },
    {
      "cell_type": "code",
      "metadata": {
        "id": "7IpaWfqCFVVQ"
      },
      "source": [
        "def similarity(s1,s2,stop_words = None):\n",
        "  if stop_words is None :\n",
        "    stop_words = None \n",
        "  s1 = [w.lower for w in s1]\n",
        "  s2 = [w.lower for w in s2]\n",
        "  all = list(set(s1+s2))\n",
        "  v1 = [0]*len(all)\n",
        "  v2 = [0]*len(all)\n",
        "  for w in s1:\n",
        "    if w in stop_words:\n",
        "      continue\n",
        "    v1[all.index(w)] += 1\n",
        "  for w in s2:\n",
        "    if w in stop_words:\n",
        "      continue\n",
        "    v2[all.index(w)] += 1\n",
        "  return 1 - cosine_distance(v1, v2)\n"
      ],
      "execution_count": 35,
      "outputs": []
    },
    {
      "cell_type": "code",
      "metadata": {
        "id": "lid-tfowHx1f"
      },
      "source": [
        "def matrix(sentence,stop_words):\n",
        "  similar_matrix = np.zeros((len(sentence),len(sentence)))\n",
        "  for s1 in range(len(sentence)):\n",
        "    for s2 in range(len(sentence)):\n",
        "      if s1 == s2:\n",
        "        continue\n",
        "      similar_matrix[s1][s2] = similarity(sentence[s1],sentence[s2],stop_words)\n",
        "  return similar_matrix\n"
      ],
      "execution_count": 36,
      "outputs": []
    },
    {
      "cell_type": "code",
      "metadata": {
        "id": "AA8SQEueJsyW"
      },
      "source": [
        "def summary(file, top_n = 5):\n",
        "  stop_word = stopwords.words('english')\n",
        "  summarize_text = []\n",
        "  sentence = read_article(file)\n",
        "  sen_simil_matrix = matrix(sentence, stop_word)\n",
        "  sen_simil_graph = nx.from_numpy_array(sen_simil_matrix)\n",
        "  scores = nx.pagerank(sen_simil_graph)\n",
        "  ranked_sentence = sorted(((scores[i],s) for i,s in enumerate(sentence)),reverse = True)\n",
        "  for i in range(top_n):\n",
        "    summarize_text.append(\" \".join(ranked_sentence[i][1]))\n",
        "  print(\"Summary:- \\n\",\". \".join(summarize_text))"
      ],
      "execution_count": 37,
      "outputs": []
    },
    {
      "cell_type": "code",
      "metadata": {
        "colab": {
          "base_uri": "https://localhost:8080/"
        },
        "id": "TzPgfSn5Lld9",
        "outputId": "a68aeb72-5e45-4bcc-f479-f507fdc31efe"
      },
      "source": [
        "no_of_lines_you_want = 5\n",
        "summary('/content/sample_data/test.txt',no_of_lines_you_want)"
      ],
      "execution_count": 38,
      "outputs": [
        {
          "output_type": "stream",
          "text": [
            "Summary:- \n",
            " Tillie Olsen's \"I Stand Here Ironing\" (1961) adopted a consciously feminist perspective. Traditionalists including John Updike and Joyce Carol Oates maintained a significant influence on the form. Cultural and social identity played a considerable role in much of the short fiction of the 1960s. The period following World War II saw a great flowering of literary short fiction in the United States. Wallace Stegner's short stories are primarily set in the American West\n"
          ],
          "name": "stdout"
        }
      ]
    },
    {
      "cell_type": "code",
      "metadata": {
        "id": "wKQgMO98L7Yv"
      },
      "source": [
        ""
      ],
      "execution_count": null,
      "outputs": []
    }
  ]
}